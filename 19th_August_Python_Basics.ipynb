{
 "cells": [
  {
   "cell_type": "markdown",
   "id": "ab460e55-06b5-42fb-b00d-9e1b61e71f8c",
   "metadata": {},
   "source": [
    "1. Decleare two variables, `x` and `y`, and assign them integer values. Swap the values of these variables without using any temporary variable."
   ]
  },
  {
   "cell_type": "code",
   "execution_count": 9,
   "id": "90b7bcbe-7482-4f61-903a-d38cbec73634",
   "metadata": {},
   "outputs": [],
   "source": [
    "x = 4\n",
    "y = 3"
   ]
  },
  {
   "cell_type": "code",
   "execution_count": 10,
   "id": "5f3aad11-b199-44d1-ac1f-add7932e6adc",
   "metadata": {},
   "outputs": [],
   "source": [
    "x,y = y,x"
   ]
  },
  {
   "cell_type": "code",
   "execution_count": 11,
   "id": "a6d9a996-845c-4319-b2f5-e1c3aa8a335c",
   "metadata": {},
   "outputs": [
    {
     "data": {
      "text/plain": [
       "3"
      ]
     },
     "execution_count": 11,
     "metadata": {},
     "output_type": "execute_result"
    }
   ],
   "source": [
    "x"
   ]
  },
  {
   "cell_type": "code",
   "execution_count": 12,
   "id": "737e6374-6f29-4135-89bd-7ca16a204012",
   "metadata": {},
   "outputs": [
    {
     "data": {
      "text/plain": [
       "4"
      ]
     },
     "execution_count": 12,
     "metadata": {},
     "output_type": "execute_result"
    }
   ],
   "source": [
    "y"
   ]
  },
  {
   "cell_type": "markdown",
   "id": "0c7cacec-deb9-4cd3-96f3-e5548a72fb3a",
   "metadata": {},
   "source": [
    "1. we are declaring two variables x = 4 and y= 3\n",
    "2. In the next line we can see that we are declaring two variables in one line with comma separated x which is equal to y and y is equal to x\n",
    "3. After this line of code we can see that before x = 4 but now x = 3 which is having y value and y = 4 which is having x"
   ]
  },
  {
   "cell_type": "markdown",
   "id": "ff632556-5b5e-48b1-a062-f9cb1c84896b",
   "metadata": {},
   "source": [
    "2. Create a program that calculates the area of a rectangle. Take the length and width as inputs from the user and store them in variables. Calculate and display the area."
   ]
  },
  {
   "cell_type": "code",
   "execution_count": 6,
   "id": "158790bf-d033-4686-a4e8-77eaa0800cd9",
   "metadata": {},
   "outputs": [
    {
     "name": "stdin",
     "output_type": "stream",
     "text": [
      " 5\n",
      " 4\n"
     ]
    }
   ],
   "source": [
    "l = int(input())\n",
    "w = int(input())"
   ]
  },
  {
   "cell_type": "code",
   "execution_count": 7,
   "id": "26076634-1ef2-40df-b467-7458c52eed34",
   "metadata": {},
   "outputs": [
    {
     "data": {
      "text/plain": [
       "20"
      ]
     },
     "execution_count": 7,
     "metadata": {},
     "output_type": "execute_result"
    }
   ],
   "source": [
    "Areaofrectangle = l * w\n",
    "Areaofrectangle"
   ]
  },
  {
   "cell_type": "markdown",
   "id": "a091ba20-1eea-476b-9f14-198a337ea3d7",
   "metadata": {},
   "source": [
    "1. So we are declaring two variables l which is defining as length and w which is defining as width.\n",
    "2. In those variable we are putting them as an input function.\n",
    "3. Input function is basically type of string so to convert into integer we are using int function for coverting string into integer\n",
    "4. For calculating the area of rectange we are using formulae i.e l * w"
   ]
  },
  {
   "cell_type": "markdown",
   "id": "da3a80ed-2c68-4b61-91e3-227ecca6433f",
   "metadata": {},
   "source": [
    "3. Write a Python program that converts temperatures from Celsius to Fahrenheit. Take the temperature in Celsius as input, store it in a variable,convert it to Fahrenheit, and display the result."
   ]
  },
  {
   "cell_type": "code",
   "execution_count": 8,
   "id": "d86c9ccf-089c-44bd-ad97-f41c06539732",
   "metadata": {},
   "outputs": [
    {
     "name": "stdin",
     "output_type": "stream",
     "text": [
      " 60.5\n"
     ]
    }
   ],
   "source": [
    "c = float(input())"
   ]
  },
  {
   "cell_type": "code",
   "execution_count": 9,
   "id": "6118c2c5-b83d-400b-bd2d-56de22c98aa1",
   "metadata": {},
   "outputs": [
    {
     "data": {
      "text/plain": [
       "140.9"
      ]
     },
     "execution_count": 9,
     "metadata": {},
     "output_type": "execute_result"
    }
   ],
   "source": [
    "f = (c * 9/5) + 32\n",
    "f"
   ]
  },
  {
   "cell_type": "markdown",
   "id": "8fe369eb-f2b9-409f-bdbb-cbafd6edae55",
   "metadata": {},
   "source": [
    "1. we are defining variable c which is having input function and we are covert these variable into float\n",
    "2. Reason for converting into float because temperature can have an floating value\n",
    "3. For conversion into fahrenheit we are using the formulae i.e. (c*9/5) + 35 c stands forcelsius"
   ]
  },
  {
   "cell_type": "markdown",
   "id": "79cc02a9-ef7a-4f47-a273-536703bd37f7",
   "metadata": {},
   "source": [
    "# String "
   ]
  },
  {
   "cell_type": "markdown",
   "id": "74962aa0-7f40-4be9-bad0-3dcbcefcab1a",
   "metadata": {},
   "source": [
    "1. Write a Python program that takes a string as input and prints the length of the string."
   ]
  },
  {
   "cell_type": "code",
   "execution_count": 16,
   "id": "d4d2d468-cbaa-4026-ae1f-118f4c6eb36f",
   "metadata": {},
   "outputs": [
    {
     "name": "stdin",
     "output_type": "stream",
     "text": [
      " I am learning python\n"
     ]
    }
   ],
   "source": [
    "a = input()"
   ]
  },
  {
   "cell_type": "code",
   "execution_count": 17,
   "id": "c5428dde-0ed1-4ca8-8c60-ae9fc7f71d34",
   "metadata": {},
   "outputs": [
    {
     "data": {
      "text/plain": [
       "20"
      ]
     },
     "execution_count": 17,
     "metadata": {},
     "output_type": "execute_result"
    }
   ],
   "source": [
    "len(a)"
   ]
  },
  {
   "cell_type": "markdown",
   "id": "70c687cf-38dd-490f-8ef7-1e192119ef28",
   "metadata": {},
   "source": [
    "1. we are declaring variable a which is having an input function so that user can write sentence\n",
    "2. we are using len function to count length of an string in which user has type.\n",
    "3. These len "
   ]
  },
  {
   "cell_type": "markdown",
   "id": "a8ec3f5c-0fa8-4deb-ad06-346f3763d481",
   "metadata": {},
   "source": [
    "2. Create a program that takes a sentence from the user and counts the number of vowels (a, e, i, o, u) in the string."
   ]
  },
  {
   "cell_type": "code",
   "execution_count": 13,
   "id": "cf3a8309-d0ad-4625-9e2d-7344d8008b00",
   "metadata": {},
   "outputs": [
    {
     "name": "stdin",
     "output_type": "stream",
     "text": [
      " I am learning python\n"
     ]
    }
   ],
   "source": [
    "a = input().lower()"
   ]
  },
  {
   "cell_type": "code",
   "execution_count": 15,
   "id": "cd165451-b379-470e-9f16-773c2d92aa65",
   "metadata": {},
   "outputs": [
    {
     "name": "stdout",
     "output_type": "stream",
     "text": [
      "The number of vowels is 5\n"
     ]
    }
   ],
   "source": [
    "vowels = 0\n",
    "for a in 'aeiou':\n",
    "    vowels +=1\n",
    "print(f'The number of vowels is {vowels}')\n",
    "\n"
   ]
  },
  {
   "cell_type": "markdown",
   "id": "9051edaf-3c5d-4797-9413-52c537414018",
   "metadata": {},
   "source": [
    "1. We are declaring variable a inside that variable we are using input function so that user can write something\n",
    "2. We are coverting all characters inside varible into lower case character by using .lower() function.\n",
    "3. We are declaring another variable called vowels and inside vowels variable we are set them as 0.\n",
    "4. Now we are using for loop what for loop do is there are iterating through each of the charcters inside the varibale and checking inside that variable that 'aeiou' is present in that sentence or not.\n",
    "5. If any one vowels is present in that sentence then it will count as 1 and stored into variable vowels "
   ]
  },
  {
   "cell_type": "markdown",
   "id": "1e387da0-ae09-4017-bad9-eb8d418e6e77",
   "metadata": {},
   "source": [
    "3. Given a string, reverse the order of characters using string slicing and print\n",
    "the reversed string."
   ]
  },
  {
   "cell_type": "code",
   "execution_count": 1,
   "id": "44100dcd-5098-486e-8139-06c70e72498a",
   "metadata": {},
   "outputs": [],
   "source": [
    "a = \"I am learning python\""
   ]
  },
  {
   "cell_type": "code",
   "execution_count": 2,
   "id": "615c464a-b15f-487a-be9d-df216ff21cdb",
   "metadata": {},
   "outputs": [],
   "source": [
    "reverse_a = a[::-1]"
   ]
  },
  {
   "cell_type": "code",
   "execution_count": 3,
   "id": "d68c7aad-4689-429c-bd1d-0a91385575af",
   "metadata": {},
   "outputs": [
    {
     "name": "stdout",
     "output_type": "stream",
     "text": [
      "nohtyp gninrael ma I\n"
     ]
    }
   ],
   "source": [
    "print(reverse_a)"
   ]
  },
  {
   "cell_type": "markdown",
   "id": "039fc56d-664e-4ae3-9676-27f5743369fa",
   "metadata": {},
   "source": [
    "1. First we are declaring variable a and inside that variable we are defining string.\n",
    "2. By using slicing in string which is having like this [start:stop:step]."
   ]
  },
  {
   "cell_type": "markdown",
   "id": "e7dafdee-9624-42a5-baa2-a0d70a5e32f4",
   "metadata": {},
   "source": [
    "4. Write a program that takes a string as input and checks if it is a palindrome\n",
    "(reads the same forwards and backwards)."
   ]
  },
  {
   "cell_type": "code",
   "execution_count": 10,
   "id": "0978a373-9864-41a5-ae1b-e3141102a2d2",
   "metadata": {},
   "outputs": [
    {
     "name": "stdin",
     "output_type": "stream",
     "text": [
      "Enter a word:  rotator\n"
     ]
    }
   ],
   "source": [
    "user = input('Enter a word: ').lower()"
   ]
  },
  {
   "cell_type": "code",
   "execution_count": 11,
   "id": "e69290d2-b949-49c4-bb89-70600bbc864d",
   "metadata": {},
   "outputs": [
    {
     "name": "stdout",
     "output_type": "stream",
     "text": [
      "rotator\n",
      "It's an palindrome\n"
     ]
    }
   ],
   "source": [
    "reverse_user = user[::-1]\n",
    "if reverse_user == user:\n",
    "    print(\"It's an palindrome\")\n",
    "else:\n",
    "    print(\"It's not an palindrome\")"
   ]
  },
  {
   "cell_type": "markdown",
   "id": "c6652299-d76d-4c88-94ac-9d0bbcf4df34",
   "metadata": {},
   "source": [
    "1. we are declaring variable user inside that user variable function we are using input function converting all characters into lower case by using lower case function.\n",
    "2. By using slicing in strings we are reversing string in the variable called reverse_user.\n",
    "3. After that we are using conditional statement to check that if string in which user are entering are palindrome or not."
   ]
  },
  {
   "cell_type": "markdown",
   "id": "fb4d2a40-febc-462b-b9c9-bcb7ad041673",
   "metadata": {},
   "source": [
    "5. Create a program that takes a string as input and removes all the spaces from\n",
    "it. Print the modified string without spaces."
   ]
  },
  {
   "cell_type": "code",
   "execution_count": 13,
   "id": "2dc70133-acf1-47b4-8050-3347e62810c7",
   "metadata": {},
   "outputs": [
    {
     "name": "stdin",
     "output_type": "stream",
     "text": [
      "Enter a senctence:  i am learning python\n"
     ]
    }
   ],
   "source": [
    "user = input('Enter a senctence: ')"
   ]
  },
  {
   "cell_type": "code",
   "execution_count": 16,
   "id": "7576146c-6a7d-4cda-a39d-4f780295e77c",
   "metadata": {},
   "outputs": [
    {
     "name": "stdout",
     "output_type": "stream",
     "text": [
      "iamlearningpython\n"
     ]
    }
   ],
   "source": [
    "user_strip = user.replace(\" \",\"\")\n",
    "print(user_strip)"
   ]
  },
  {
   "cell_type": "markdown",
   "id": "c5a2111e-f7d8-4f1b-91de-a0fec100a9ec",
   "metadata": {},
   "source": [
    "1. we are declaring variable called user and inside that iser varibale we are using input function to enter something.\n",
    "2. we are declaring another varibale called user user_strip inside these variable for removing spaces we are using the replace function.\n",
    "3. These replace function will allow us to reolace any character in string with something even spaces beteween characters as well."
   ]
  },
  {
   "cell_type": "code",
   "execution_count": null,
   "id": "58cf8a54-3f4e-4039-aa69-da9adbf9f020",
   "metadata": {},
   "outputs": [],
   "source": []
  }
 ],
 "metadata": {
  "kernelspec": {
   "display_name": "Python 3 (ipykernel)",
   "language": "python",
   "name": "python3"
  },
  "language_info": {
   "codemirror_mode": {
    "name": "ipython",
    "version": 3
   },
   "file_extension": ".py",
   "mimetype": "text/x-python",
   "name": "python",
   "nbconvert_exporter": "python",
   "pygments_lexer": "ipython3",
   "version": "3.10.8"
  }
 },
 "nbformat": 4,
 "nbformat_minor": 5
}
